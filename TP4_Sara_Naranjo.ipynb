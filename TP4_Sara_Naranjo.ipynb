{
 "cells": [
  {
   "cell_type": "markdown",
   "id": "19eb4cf2-9ef6-4af8-9300-10d5abd63495",
   "metadata": {},
   "source": [
    "# TP4 - Facial Expression Recognition / KNN\n",
    "<table style=\"margin-left: 0px; margin-top: 20px; margin-bottom: 20px;\">\n",
    "<tr>\n",
    "<td style=\"width:120px; padding-top: 10px; padding-bottom: 10px;\"><img src=\"assets/logo_ipparis.png\" style=\"height: 130px;\"></td>\n",
    "<td style=\"padding-left: 12px;\">\n",
    "<table style=\"width: 100%;\">\n",
    "<tr>\n",
    "<th style=\"text-align: left; width: 80px;\">File</th>\n",
    "<td style=\"text-align: left;\">TP4_Sara_Naranjo.ipynb</td>\n",
    "</tr>\n",
    "<tr>\n",
    "<th style=\"text-align: left;\">Author</th>\n",
    "<td style=\"text-align: left;\">Sara NARANJO</td>\n",
    "</tr>\n",
    "<tr>\n",
    "<th style=\"text-align: left;\">Affiliation</th>\n",
    "<td style=\"text-align: left;\">Institut Polytechnique de Paris &nbsp;|&nbsp; Telecom SudParis &nbsp;</td>\n",
    "</tr>\n",
    "<tr>\n",
    "<th style=\"text-align: left;\">Date</th>\n",
    "<td style=\"text-align: left;\">Novembre 18, 2024</td>\n",
    "</tr>\n",
    "<tr>\n",
    "<th style=\"text-align: left;\">Description</th>\n",
    "<td style=\"text-align: left;\">Facial Expression Recognition KNN</td>\n",
    "</tr>\n",
    "</table>\n",
    "</td>\n",
    "</tr>\n",
    "</table>"
   ]
  },
  {
   "cell_type": "markdown",
   "id": "b331fce1-be27-4d03-9b55-43a8ea4029c8",
   "metadata": {},
   "source": [
    "# First Part: Histogram of the LBP features"
   ]
  },
  {
   "cell_type": "markdown",
   "id": "85736926-35af-45ef-9707-d0a6ac68deb7",
   "metadata": {},
   "source": [
    "## Import Necessary Libraries"
   ]
  },
  {
   "cell_type": "code",
   "execution_count": 88,
   "id": "b0cfc75e-3007-4643-869c-7dd188db391d",
   "metadata": {},
   "outputs": [],
   "source": [
    "import os\n",
    "import cv2\n",
    "import numpy as np\n",
    "import pandas as pd\n",
    "from skimage.feature import local_binary_pattern\n",
    "from sklearn.model_selection import train_test_split\n",
    "from sklearn.neighbors import KNeighborsClassifier\n",
    "from sklearn.metrics import accuracy_score, confusion_matrix, classification_report\n",
    "import matplotlib.pyplot as plt"
   ]
  },
  {
   "cell_type": "markdown",
   "id": "1f0ec081-729c-4402-8b2d-0b5da9cd2098",
   "metadata": {},
   "source": [
    "- The code imports essential libraries for image processing, feature extraction, and machine learning.\n",
    "- <b>cv2</b> (OpenCV) and <b>numpy</b> are used for image manipulation.\n",
    "- <b>matplotlib.pyplot</b> is used to plot images and graphs.\n",
    "- <b>local_binary_pattern</b> from <b>skimage.feature</b> is used for calculating Local Binary Pattern (LBP), a texture feature extraction technique.\n",
    "- <b>train_test_split</b>, <b>KNeighborsClassifier</b>, <b>accuracy_score</b>, and <b>confusion_matrix</b> from <b>sklearn</b> are used for model training, evaluation, and performance metrics."
   ]
  },
  {
   "cell_type": "markdown",
   "id": "62860006-fcce-46ee-86b6-dd246b066705",
   "metadata": {},
   "source": [
    "## Define the LBP Function"
   ]
  },
  {
   "cell_type": "code",
   "execution_count": 89,
   "id": "14828454",
   "metadata": {},
   "outputs": [],
   "source": [
    "def lbp(image, block_size, radius):\n",
    "    height, width = image.shape\n",
    "\n",
    "    if height % block_size != 0 or width % block_size:\n",
    "        print(\"Make sure block size is a divider of image size!\")\n",
    "        return 0\n",
    "\n",
    "    num_it = int(height  / block_size)\n",
    "    n_points = 8 * radius \n",
    "\n",
    "    lbp_patches = []\n",
    "\n",
    "    for i in range(0, num_it):\n",
    "        for j in range(0, num_it):\n",
    "            i_index = i * block_size\n",
    "            j_index = j * block_size\n",
    "            patch= image[i_index:i_index + block_size, j_index:j_index + block_size]\n",
    "            lbp_patch = local_binary_pattern(patch, R = radius, P = n_points)\n",
    "            lbp_patch.ravel()\n",
    "            lbp_hist = np.histogram(lbp_patch, 256)\n",
    "            lbp_patches.extend(lbp_hist[0])\n",
    "\n",
    "    return lbp_patches"
   ]
  },
  {
   "cell_type": "markdown",
   "id": "561780be-30ec-49ef-9c76-59bd9eb5a88c",
   "metadata": {},
   "source": [
    "This function calculates the LBP features for an image in blocks.\n",
    "\n",
    "Parameters:\n",
    "- <b>image:</b> The grayscale image for which we want to compute LBP features.\n",
    "- <b>block_size:</b> Size of the blocks within the image.\n",
    "- <b>radius:</b> Radius for the LBP calculation, which defines the neighborhood size for each pixel.\n",
    "\n",
    "Function Logic:\n",
    "- First, the function checks if the image dimensions are compatible with the block size.\n",
    "- It then divides the image into smaller <b>block_size x block_size patches</b>.\n",
    "- For each patch, it computes the LBP and creates a histogram of LBP values, which represents the texture distribution in that patch.\n",
    "- The LBP histograms of all patches are combined to create a feature vector for the entire image."
   ]
  },
  {
   "cell_type": "markdown",
   "id": "f33cd67d-e938-4821-be7b-6a92d2c2a4ef",
   "metadata": {},
   "source": [
    "## Set LBP Parameters and Load the Image"
   ]
  },
  {
   "cell_type": "code",
   "execution_count": 90,
   "id": "884d570a-5efc-4a6f-b206-d90b95e7656d",
   "metadata": {},
   "outputs": [],
   "source": [
    "radius = 1\n",
    "n_points = 8 * radius\n",
    "block_size = 12\n",
    "\n",
    "space =[]\n",
    "\n",
    "image_path = '/Users/saranaranjo/VAR - too heavy/Robotics/TP4/archive/test/angry/PrivateTest_10131363.jpg'\n",
    "image = cv2.imread(image_path)\n",
    "image = cv2.cvtColor(image, cv2.COLOR_BGR2GRAY)\n",
    "image = np.array(image)"
   ]
  },
  {
   "cell_type": "markdown",
   "id": "985d674e-02d9-4606-97c2-e79e9ad685de",
   "metadata": {},
   "source": [
    "<b>radius</b>, <b>n_points</b>, and <b>block_size</b> are parameters for LBP:\n",
    "\n",
    "- <b>radius</b> controls the neighborhood size around each pixel.\n",
    "- <b>n_points</b> is the number of neighbors considered in the LBP calculation.\n",
    "- <b>block_size</b> specifies the size of each patch for localized LBP computation.\n",
    "\n",
    "Image Loading:\n",
    "- The specified image is loaded, converted to grayscale (since LBP requires grayscale images), and prepared for processing."
   ]
  },
  {
   "cell_type": "markdown",
   "id": "8df8c902-cedc-4a80-bd67-45004436855d",
   "metadata": {},
   "source": [
    "## Display the Grayscale Image"
   ]
  },
  {
   "cell_type": "code",
   "execution_count": 91,
   "id": "11c6b708",
   "metadata": {},
   "outputs": [
    {
     "data": {
      "text/plain": [
       "<matplotlib.image.AxesImage at 0x1628a3260>"
      ]
     },
     "execution_count": 91,
     "metadata": {},
     "output_type": "execute_result"
    },
    {
     "data": {
      "image/png": "[encoded data removed]",
      "text/plain": [
       "<Figure size 640x480 with 1 Axes>"
      ]
     },
     "metadata": {},
     "output_type": "display_data"
    }
   ],
   "source": [
    "plt.imshow(image, cmap='gray')"
   ]
  },
  {
   "cell_type": "markdown",
   "id": "fb370e81-37b5-4f05-a3fc-950b60fb4d26",
   "metadata": {},
   "source": [
    "This displays the grayscale image for visualization.\n",
    "The <b>cmap='gray'</b> option ensures that the image is displayed in grayscale."
   ]
  },
  {
   "cell_type": "markdown",
   "id": "436b71a4-1ec5-4d02-a408-f42754a920e9",
   "metadata": {},
   "source": [
    "## Compute LBP Image "
   ]
  },
  {
   "cell_type": "code",
   "execution_count": 92,
   "id": "de48b926-0ace-4f7b-9711-c8ccc52f3986",
   "metadata": {},
   "outputs": [],
   "source": [
    "# Compute LBP features using the custom function\n",
    "lbp_features = lbp(image, block_size, radius)\n",
    "\n",
    "# Compute LBP image for visualization\n",
    "lbp = local_binary_pattern(image, n_points, radius, method=\"uniform\")"
   ]
  },
  {
   "cell_type": "markdown",
   "id": "cbe3fbe2-ff03-4442-849c-f702fd3b7d93",
   "metadata": {},
   "source": [
    "The <b>local_binary_pattern</b> function calculates the LBP for the entire image, using the previously defined parameters (<b>n_points</b> and <b>radius</b>).\n",
    "The <b>method=\"uniform\"</b> option specifies that uniform LBP patterns will be used, which reduces the number of unique LBP patterns, making it more robust and compact."
   ]
  },
  {
   "cell_type": "markdown",
   "id": "0414ca55-06b5-4fb0-a892-6f3854430db6",
   "metadata": {},
   "source": [
    "## Display Grayscale Image and LBP Histogram"
   ]
  },
  {
   "cell_type": "code",
   "execution_count": 93,
   "id": "fc69f8e9-4f80-40b0-999d-72552cdaae3f",
   "metadata": {},
   "outputs": [
    {
     "data": {
      "image/png": "[encoded data removed]",
      "text/plain": [
       "<Figure size 1000x400 with 2 Axes>"
      ]
     },
     "metadata": {},
     "output_type": "display_data"
    }
   ],
   "source": [
    "if lbp_features is not None:\n",
    "    # Display the grayscale image\n",
    "    plt.figure(figsize=(10, 4))\n",
    "    plt.subplot(1, 2, 1)\n",
    "    plt.imshow(image, cmap='gray')\n",
    "    plt.title('Grayscale Image')\n",
    "    plt.axis('off')\n",
    "\n",
    "    # Plot the histogram of the LBP features\n",
    "    plt.subplot(1, 2, 2)\n",
    "    plt.plot(lbp_features)"
   ]
  },
  {
   "cell_type": "markdown",
   "id": "d6cf1df5-0855-4d0e-bbf3-4c8acb501c17",
   "metadata": {},
   "source": [
    "The grayscale image is displayed alongside the histogram of the LBP features.\n",
    "\n",
    "Histogram of LBP Features:\n",
    "The <b>plot(lbp_features)</b> command shows the distribution of LBP values.\n",
    "This histogram represents the frequency of each LBP pattern in the image, capturing the image’s texture information."
   ]
  },
  {
   "cell_type": "markdown",
   "id": "268cb579-8eea-42e8-b432-eecb4d97d830",
   "metadata": {},
   "source": [
    "## Display the LBP Image "
   ]
  },
  {
   "cell_type": "code",
   "execution_count": 94,
   "id": "3b77afed-5d99-4592-a21f-071ace88ead1",
   "metadata": {},
   "outputs": [
    {
     "data": {
      "text/plain": [
       "(-0.5, 47.5, 47.5, -0.5)"
      ]
     },
     "execution_count": 94,
     "metadata": {},
     "output_type": "execute_result"
    },
    {
     "data": {
      "image/png": "[encoded data removed]",
      "text/plain": [
       "<Figure size 1000x400 with 1 Axes>"
      ]
     },
     "metadata": {},
     "output_type": "display_data"
    }
   ],
   "source": [
    "# Plot LBP Image\n",
    "plt.figure(figsize=(10, 4))\n",
    "plt.subplot(1, 2, 1)\n",
    "plt.imshow(lbp, cmap='gray')\n",
    "plt.title('LBP Image')\n",
    "plt.axis('off')"
   ]
  },
  {
   "cell_type": "markdown",
   "id": "32401f8e-1900-4b3e-9598-4c74e930b479",
   "metadata": {},
   "source": [
    "- The LBP-transformed image is displayed.\n",
    "- This image visualizes the texture patterns, where each pixel’s intensity corresponds to the LBP value for that pixel.\n",
    "- This provides an overview of the textural features that were captured by the LBP transformation."
   ]
  },
  {
   "cell_type": "markdown",
   "id": "0db804c1-3dc5-4e7c-9b9c-54022156c168",
   "metadata": {},
   "source": [
    "# Second Part: Facial Expression Recognition using KNN"
   ]
  },
  {
   "cell_type": "markdown",
   "id": "e6eff6c8-00a6-4501-b299-6745fc8afb4d",
   "metadata": {},
   "source": [
    "## Import Necessary Libraries "
   ]
  },
  {
   "cell_type": "code",
   "execution_count": 95,
   "id": "f7343f27-9952-485a-bb9f-e4698c45081c",
   "metadata": {},
   "outputs": [],
   "source": [
    "import os\n",
    "import cv2\n",
    "import numpy as np\n",
    "import pandas as pd\n",
    "from skimage.feature import local_binary_pattern\n",
    "from sklearn.model_selection import train_test_split\n",
    "from sklearn.neighbors import KNeighborsClassifier\n",
    "from sklearn.metrics import accuracy_score, confusion_matrix, classification_report\n",
    "import matplotlib.pyplot as plt"
   ]
  },
  {
   "cell_type": "markdown",
   "id": "a05203f8-22b8-402d-833c-5366830db5a3",
   "metadata": {},
   "source": [
    "## Set Parameters for LBP and Block Size"
   ]
  },
  {
   "cell_type": "code",
   "execution_count": 96,
   "id": "0828012f-8c49-4c05-ad44-55f26a1aed9f",
   "metadata": {},
   "outputs": [],
   "source": [
    "radius = 1\n",
    "n_points = 8 * radius\n",
    "block_size = 12"
   ]
  },
  {
   "cell_type": "markdown",
   "id": "e69769b9-d3d0-4641-9cb8-6559f32ff28d",
   "metadata": {},
   "source": [
    "- <b>radius:</b> Determines the neighborhood radius for each pixel in the LBP calculation.\n",
    "- <b>n_points:</b> Number of neighbors considered for each pixel.\n",
    "- <b>block_size:</b> Size of each block when dividing the image to compute LBP histograms locally."
   ]
  },
  {
   "cell_type": "markdown",
   "id": "f8c6e7bb-460c-4944-8589-b318ae9d1dbe",
   "metadata": {},
   "source": [
    "## Define the LBP Feature Extraction Function"
   ]
  },
  {
   "cell_type": "code",
   "execution_count": 97,
   "id": "43809ebe-bf77-408c-b517-978ea66995fd",
   "metadata": {},
   "outputs": [],
   "source": [
    "def lbp_features(image, block_size, radius):\n",
    "    height, width = image.shape\n",
    "    if height % block_size != 0 or width % block_size != 0:\n",
    "        return None\n",
    "\n",
    "    num_it = int(height / block_size)\n",
    "    lbp_hist = []\n",
    "\n",
    "    for i in range(num_it):\n",
    "        for j in range(num_it):\n",
    "            patch = image[i * block_size:(i + 1) * block_size, j * block_size:(j + 1) * block_size]\n",
    "            lbp = local_binary_pattern(patch, n_points, radius, method=\"uniform\")\n",
    "            hist, _ = np.histogram(lbp.ravel(), bins=np.arange(0, n_points + 3), range=(0, n_points + 2))\n",
    "            lbp_hist.extend(hist)\n",
    "\n",
    "    return np.array(lbp_hist)"
   ]
  },
  {
   "cell_type": "markdown",
   "id": "15097e41-c1e7-45dd-9bb5-3abfd5e185c8",
   "metadata": {},
   "source": [
    "This function extracts LBP features for an image in a block-wise manner.\n",
    "Parameters:\n",
    "- <b>image:</b> Grayscale image input.\n",
    "- <b>block_size:</b> Defines the size of each block in the image.\n",
    "- <b>radius:</b> Controls the neighborhood size for each pixel.\n",
    "\n",
    "Function Logic:\n",
    "- Divides the image into <b>block_size x block_size</b> patches.\n",
    "- Computes LBP for each patch and creates a histogram of LBP values, capturing texture information.\n",
    "- Combines histograms from all patches to form the feature vector for the image."
   ]
  },
  {
   "cell_type": "markdown",
   "id": "ac698eaa-2709-48f0-b20d-1019e753c72e",
   "metadata": {},
   "source": [
    "## Load and Label Images from the Dataset"
   ]
  },
  {
   "cell_type": "code",
   "execution_count": 98,
   "id": "80607cf4-797e-42e4-b971-83a386d43434",
   "metadata": {},
   "outputs": [],
   "source": [
    "def load_images_from_folder(folder_path):\n",
    "    data = []\n",
    "    labels = []\n",
    "    emotion_map = {'angry': 0, 'disgust': 1, 'fear': 2, 'happy': 3, 'sad': 4, 'surprise': 5, 'neutral': 6}\n",
    "\n",
    "    for emotion in os.listdir(folder_path):\n",
    "        emotion_folder = os.path.join(folder_path, emotion)\n",
    "        if os.path.isdir(emotion_folder):\n",
    "            for image_name in os.listdir(emotion_folder):\n",
    "                image_path = os.path.join(emotion_folder, image_name)\n",
    "                image = cv2.imread(image_path, cv2.IMREAD_GRAYSCALE)\n",
    "                if image is not None:\n",
    "                    features = lbp_features(image, block_size, radius)\n",
    "                    if features is not None:\n",
    "                        data.append(features)\n",
    "                        labels.append(emotion_map[emotion])\n",
    "\n",
    "    return np.array(data), np.array(labels)"
   ]
  },
  {
   "cell_type": "markdown",
   "id": "b16ed613-880d-4db7-b3e5-96c242d723f5",
   "metadata": {},
   "source": [
    "This function loads images from a specified folder, extracts LBP features, and labels each image based on its folder.\n",
    "Logic:\n",
    "- Iterates over each emotion folder and each image inside.\n",
    "- Reads each image, converts it to grayscale, and applies <b>lbp_features</b>.\n",
    "- Appends the extracted features and corresponding label (based on the <b>emotion_map</b>) to <b>data</b> and <b>labels</b>."
   ]
  },
  {
   "cell_type": "markdown",
   "id": "9cb32caf-940a-45ef-a857-b07369fb8be3",
   "metadata": {},
   "source": [
    "## Load Training and Testing Data "
   ]
  },
  {
   "cell_type": "markdown",
   "id": "c2be24e7-452d-4283-bd51-48ae29065f9a",
   "metadata": {},
   "source": [
    "train_data, train_labels = load_images_from_folder('/Users/saranaranjo/VAR - too heavy/Robotics/TP4/archive/train')\n",
    "test_data, test_labels = load_images_from_folder('/Users/saranaranjo/VAR - too heavy/Robotics/TP4/archive/test')"
   ]
  },
  {
   "cell_type": "markdown",
   "id": "164aae16-b2c0-49d8-a1a2-1d16392f614b",
   "metadata": {},
   "source": [
    "- Calls <b>load_images_from_folder</b> for both the training and test datasets.\n",
    "- Stores the feature vectors and labels for both sets in <b>train_data</b>, <b>train_labels</b>, <b>test_data</b>, and <b>test_labels</b>."
   ]
  },
  {
   "cell_type": "markdown",
   "id": "5e606576-fa4b-426a-aba2-4a4d995cea85",
   "metadata": {},
   "source": [
    "## Train the KNN Model"
   ]
  },
  {
   "cell_type": "code",
   "execution_count": 99,
   "id": "ff41fa4e-d861-42b4-a0bc-a008f7668cf1",
   "metadata": {},
   "outputs": [
    {
     "data": {
      "text/html": [
       "<style>#sk-container-id-1 {\n",
       "  /* Definition of color scheme common for light and dark mode */\n",
       "  --sklearn-color-text: black;\n",
       "  --sklearn-color-line: gray;\n",
       "  /* Definition of color scheme for unfitted estimators */\n",
       "  --sklearn-color-unfitted-level-0: #fff5e6;\n",
       "  --sklearn-color-unfitted-level-1: #f6e4d2;\n",
       "  --sklearn-color-unfitted-level-2: #ffe0b3;\n",
       "  --sklearn-color-unfitted-level-3: chocolate;\n",
       "  /* Definition of color scheme for fitted estimators */\n",
       "  --sklearn-color-fitted-level-0: #f0f8ff;\n",
       "  --sklearn-color-fitted-level-1: #d4ebff;\n",
       "  --sklearn-color-fitted-level-2: #b3dbfd;\n",
       "  --sklearn-color-fitted-level-3: cornflowerblue;\n",
       "\n",
       "  /* Specific color for light theme */\n",
       "  --sklearn-color-text-on-default-background: var(--sg-text-color, var(--theme-code-foreground, var(--jp-content-font-color1, black)));\n",
       "  --sklearn-color-background: var(--sg-background-color, var(--theme-background, var(--jp-layout-color0, white)));\n",
       "  --sklearn-color-border-box: var(--sg-text-color, var(--theme-code-foreground, var(--jp-content-font-color1, black)));\n",
       "  --sklearn-color-icon: #696969;\n",
       "\n",
       "  @media (prefers-color-scheme: dark) {\n",
       "    /* Redefinition of color scheme for dark theme */\n",
       "    --sklearn-color-text-on-default-background: var(--sg-text-color, var(--theme-code-foreground, var(--jp-content-font-color1, white)));\n",
       "    --sklearn-color-background: var(--sg-background-color, var(--theme-background, var(--jp-layout-color0, #111)));\n",
       "    --sklearn-color-border-box: var(--sg-text-color, var(--theme-code-foreground, var(--jp-content-font-color1, white)));\n",
       "    --sklearn-color-icon: #878787;\n",
       "  }\n",
       "}\n",
       "\n",
       "#sk-container-id-1 {\n",
       "  color: var(--sklearn-color-text);\n",
       "}\n",
       "\n",
       "#sk-container-id-1 pre {\n",
       "  padding: 0;\n",
       "}\n",
       "\n",
       "#sk-container-id-1 input.sk-hidden--visually {\n",
       "  border: 0;\n",
       "  clip: rect(1px 1px 1px 1px);\n",
       "  clip: rect(1px, 1px, 1px, 1px);\n",
       "  height: 1px;\n",
       "  margin: -1px;\n",
       "  overflow: hidden;\n",
       "  padding: 0;\n",
       "  position: absolute;\n",
       "  width: 1px;\n",
       "}\n",
       "\n",
       "#sk-container-id-1 div.sk-dashed-wrapped {\n",
       "  border: 1px dashed var(--sklearn-color-line);\n",
       "  margin: 0 0.4em 0.5em 0.4em;\n",
       "  box-sizing: border-box;\n",
       "  padding-bottom: 0.4em;\n",
       "  background-color: var(--sklearn-color-background);\n",
       "}\n",
       "\n",
       "#sk-container-id-1 div.sk-container {\n",
       "  /* jupyter's `normalize.less` sets `[hidden] { display: none; }`\n",
       "     but bootstrap.min.css set `[hidden] { display: none !important; }`\n",
       "     so we also need the `!important` here to be able to override the\n",
       "     default hidden behavior on the sphinx rendered scikit-learn.org.\n",
       "     See: https://github.com/scikit-learn/scikit-learn/issues/21755 */\n",
       "  display: inline-block !important;\n",
       "  position: relative;\n",
       "}\n",
       "\n",
       "#sk-container-id-1 div.sk-text-repr-fallback {\n",
       "  display: none;\n",
       "}\n",
       "\n",
       "div.sk-parallel-item,\n",
       "div.sk-serial,\n",
       "div.sk-item {\n",
       "  /* draw centered vertical line to link estimators */\n",
       "  background-image: linear-gradient(var(--sklearn-color-text-on-default-background), var(--sklearn-color-text-on-default-background));\n",
       "  background-size: 2px 100%;\n",
       "  background-repeat: no-repeat;\n",
       "  background-position: center center;\n",
       "}\n",
       "\n",
       "/* Parallel-specific style estimator block */\n",
       "\n",
       "#sk-container-id-1 div.sk-parallel-item::after {\n",
       "  content: \"\";\n",
       "  width: 100%;\n",
       "  border-bottom: 2px solid var(--sklearn-color-text-on-default-background);\n",
       "  flex-grow: 1;\n",
       "}\n",
       "\n",
       "#sk-container-id-1 div.sk-parallel {\n",
       "  display: flex;\n",
       "  align-items: stretch;\n",
       "  justify-content: center;\n",
       "  background-color: var(--sklearn-color-background);\n",
       "  position: relative;\n",
       "}\n",
       "\n",
       "#sk-container-id-1 div.sk-parallel-item {\n",
       "  display: flex;\n",
       "  flex-direction: column;\n",
       "}\n",
       "\n",
       "#sk-container-id-1 div.sk-parallel-item:first-child::after {\n",
       "  align-self: flex-end;\n",
       "  width: 50%;\n",
       "}\n",
       "\n",
       "#sk-container-id-1 div.sk-parallel-item:last-child::after {\n",
       "  align-self: flex-start;\n",
       "  width: 50%;\n",
       "}\n",
       "\n",
       "#sk-container-id-1 div.sk-parallel-item:only-child::after {\n",
       "  width: 0;\n",
       "}\n",
       "\n",
       "/* Serial-specific style estimator block */\n",
       "\n",
       "#sk-container-id-1 div.sk-serial {\n",
       "  display: flex;\n",
       "  flex-direction: column;\n",
       "  align-items: center;\n",
       "  background-color: var(--sklearn-color-background);\n",
       "  padding-right: 1em;\n",
       "  padding-left: 1em;\n",
       "}\n",
       "\n",
       "\n",
       "/* Toggleable style: style used for estimator/Pipeline/ColumnTransformer box that is\n",
       "clickable and can be expanded/collapsed.\n",
       "- Pipeline and ColumnTransformer use this feature and define the default style\n",
       "- Estimators will overwrite some part of the style using the `sk-estimator` class\n",
       "*/\n",
       "\n",
       "/* Pipeline and ColumnTransformer style (default) */\n",
       "\n",
       "#sk-container-id-1 div.sk-toggleable {\n",
       "  /* Default theme specific background. It is overwritten whether we have a\n",
       "  specific estimator or a Pipeline/ColumnTransformer */\n",
       "  background-color: var(--sklearn-color-background);\n",
       "}\n",
       "\n",
       "/* Toggleable label */\n",
       "#sk-container-id-1 label.sk-toggleable__label {\n",
       "  cursor: pointer;\n",
       "  display: block;\n",
       "  width: 100%;\n",
       "  margin-bottom: 0;\n",
       "  padding: 0.5em;\n",
       "  box-sizing: border-box;\n",
       "  text-align: center;\n",
       "}\n",
       "\n",
       "#sk-container-id-1 label.sk-toggleable__label-arrow:before {\n",
       "  /* Arrow on the left of the label */\n",
       "  content: \"▸\";\n",
       "  float: left;\n",
       "  margin-right: 0.25em;\n",
       "  color: var(--sklearn-color-icon);\n",
       "}\n",
       "\n",
       "#sk-container-id-1 label.sk-toggleable__label-arrow:hover:before {\n",
       "  color: var(--sklearn-color-text);\n",
       "}\n",
       "\n",
       "/* Toggleable content - dropdown */\n",
       "\n",
       "#sk-container-id-1 div.sk-toggleable__content {\n",
       "  max-height: 0;\n",
       "  max-width: 0;\n",
       "  overflow: hidden;\n",
       "  text-align: left;\n",
       "  /* unfitted */\n",
       "  background-color: var(--sklearn-color-unfitted-level-0);\n",
       "}\n",
       "\n",
       "#sk-container-id-1 div.sk-toggleable__content.fitted {\n",
       "  /* fitted */\n",
       "  background-color: var(--sklearn-color-fitted-level-0);\n",
       "}\n",
       "\n",
       "#sk-container-id-1 div.sk-toggleable__content pre {\n",
       "  margin: 0.2em;\n",
       "  border-radius: 0.25em;\n",
       "  color: var(--sklearn-color-text);\n",
       "  /* unfitted */\n",
       "  background-color: var(--sklearn-color-unfitted-level-0);\n",
       "}\n",
       "\n",
       "#sk-container-id-1 div.sk-toggleable__content.fitted pre {\n",
       "  /* unfitted */\n",
       "  background-color: var(--sklearn-color-fitted-level-0);\n",
       "}\n",
       "\n",
       "#sk-container-id-1 input.sk-toggleable__control:checked~div.sk-toggleable__content {\n",
       "  /* Expand drop-down */\n",
       "  max-height: 200px;\n",
       "  max-width: 100%;\n",
       "  overflow: auto;\n",
       "}\n",
       "\n",
       "#sk-container-id-1 input.sk-toggleable__control:checked~label.sk-toggleable__label-arrow:before {\n",
       "  content: \"▾\";\n",
       "}\n",
       "\n",
       "/* Pipeline/ColumnTransformer-specific style */\n",
       "\n",
       "#sk-container-id-1 div.sk-label input.sk-toggleable__control:checked~label.sk-toggleable__label {\n",
       "  color: var(--sklearn-color-text);\n",
       "  background-color: var(--sklearn-color-unfitted-level-2);\n",
       "}\n",
       "\n",
       "#sk-container-id-1 div.sk-label.fitted input.sk-toggleable__control:checked~label.sk-toggleable__label {\n",
       "  background-color: var(--sklearn-color-fitted-level-2);\n",
       "}\n",
       "\n",
       "/* Estimator-specific style */\n",
       "\n",
       "/* Colorize estimator box */\n",
       "#sk-container-id-1 div.sk-estimator input.sk-toggleable__control:checked~label.sk-toggleable__label {\n",
       "  /* unfitted */\n",
       "  background-color: var(--sklearn-color-unfitted-level-2);\n",
       "}\n",
       "\n",
       "#sk-container-id-1 div.sk-estimator.fitted input.sk-toggleable__control:checked~label.sk-toggleable__label {\n",
       "  /* fitted */\n",
       "  background-color: var(--sklearn-color-fitted-level-2);\n",
       "}\n",
       "\n",
       "#sk-container-id-1 div.sk-label label.sk-toggleable__label,\n",
       "#sk-container-id-1 div.sk-label label {\n",
       "  /* The background is the default theme color */\n",
       "  color: var(--sklearn-color-text-on-default-background);\n",
       "}\n",
       "\n",
       "/* On hover, darken the color of the background */\n",
       "#sk-container-id-1 div.sk-label:hover label.sk-toggleable__label {\n",
       "  color: var(--sklearn-color-text);\n",
       "  background-color: var(--sklearn-color-unfitted-level-2);\n",
       "}\n",
       "\n",
       "/* Label box, darken color on hover, fitted */\n",
       "#sk-container-id-1 div.sk-label.fitted:hover label.sk-toggleable__label.fitted {\n",
       "  color: var(--sklearn-color-text);\n",
       "  background-color: var(--sklearn-color-fitted-level-2);\n",
       "}\n",
       "\n",
       "/* Estimator label */\n",
       "\n",
       "#sk-container-id-1 div.sk-label label {\n",
       "  font-family: monospace;\n",
       "  font-weight: bold;\n",
       "  display: inline-block;\n",
       "  line-height: 1.2em;\n",
       "}\n",
       "\n",
       "#sk-container-id-1 div.sk-label-container {\n",
       "  text-align: center;\n",
       "}\n",
       "\n",
       "/* Estimator-specific */\n",
       "#sk-container-id-1 div.sk-estimator {\n",
       "  font-family: monospace;\n",
       "  border: 1px dotted var(--sklearn-color-border-box);\n",
       "  border-radius: 0.25em;\n",
       "  box-sizing: border-box;\n",
       "  margin-bottom: 0.5em;\n",
       "  /* unfitted */\n",
       "  background-color: var(--sklearn-color-unfitted-level-0);\n",
       "}\n",
       "\n",
       "#sk-container-id-1 div.sk-estimator.fitted {\n",
       "  /* fitted */\n",
       "  background-color: var(--sklearn-color-fitted-level-0);\n",
       "}\n",
       "\n",
       "/* on hover */\n",
       "#sk-container-id-1 div.sk-estimator:hover {\n",
       "  /* unfitted */\n",
       "  background-color: var(--sklearn-color-unfitted-level-2);\n",
       "}\n",
       "\n",
       "#sk-container-id-1 div.sk-estimator.fitted:hover {\n",
       "  /* fitted */\n",
       "  background-color: var(--sklearn-color-fitted-level-2);\n",
       "}\n",
       "\n",
       "/* Specification for estimator info (e.g. \"i\" and \"?\") */\n",
       "\n",
       "/* Common style for \"i\" and \"?\" */\n",
       "\n",
       ".sk-estimator-doc-link,\n",
       "a:link.sk-estimator-doc-link,\n",
       "a:visited.sk-estimator-doc-link {\n",
       "  float: right;\n",
       "  font-size: smaller;\n",
       "  line-height: 1em;\n",
       "  font-family: monospace;\n",
       "  background-color: var(--sklearn-color-background);\n",
       "  border-radius: 1em;\n",
       "  height: 1em;\n",
       "  width: 1em;\n",
       "  text-decoration: none !important;\n",
       "  margin-left: 1ex;\n",
       "  /* unfitted */\n",
       "  border: var(--sklearn-color-unfitted-level-1) 1pt solid;\n",
       "  color: var(--sklearn-color-unfitted-level-1);\n",
       "}\n",
       "\n",
       ".sk-estimator-doc-link.fitted,\n",
       "a:link.sk-estimator-doc-link.fitted,\n",
       "a:visited.sk-estimator-doc-link.fitted {\n",
       "  /* fitted */\n",
       "  border: var(--sklearn-color-fitted-level-1) 1pt solid;\n",
       "  color: var(--sklearn-color-fitted-level-1);\n",
       "}\n",
       "\n",
       "/* On hover */\n",
       "div.sk-estimator:hover .sk-estimator-doc-link:hover,\n",
       ".sk-estimator-doc-link:hover,\n",
       "div.sk-label-container:hover .sk-estimator-doc-link:hover,\n",
       ".sk-estimator-doc-link:hover {\n",
       "  /* unfitted */\n",
       "  background-color: var(--sklearn-color-unfitted-level-3);\n",
       "  color: var(--sklearn-color-background);\n",
       "  text-decoration: none;\n",
       "}\n",
       "\n",
       "div.sk-estimator.fitted:hover .sk-estimator-doc-link.fitted:hover,\n",
       ".sk-estimator-doc-link.fitted:hover,\n",
       "div.sk-label-container:hover .sk-estimator-doc-link.fitted:hover,\n",
       ".sk-estimator-doc-link.fitted:hover {\n",
       "  /* fitted */\n",
       "  background-color: var(--sklearn-color-fitted-level-3);\n",
       "  color: var(--sklearn-color-background);\n",
       "  text-decoration: none;\n",
       "}\n",
       "\n",
       "/* Span, style for the box shown on hovering the info icon */\n",
       ".sk-estimator-doc-link span {\n",
       "  display: none;\n",
       "  z-index: 9999;\n",
       "  position: relative;\n",
       "  font-weight: normal;\n",
       "  right: .2ex;\n",
       "  padding: .5ex;\n",
       "  margin: .5ex;\n",
       "  width: min-content;\n",
       "  min-width: 20ex;\n",
       "  max-width: 50ex;\n",
       "  color: var(--sklearn-color-text);\n",
       "  box-shadow: 2pt 2pt 4pt #999;\n",
       "  /* unfitted */\n",
       "  background: var(--sklearn-color-unfitted-level-0);\n",
       "  border: .5pt solid var(--sklearn-color-unfitted-level-3);\n",
       "}\n",
       "\n",
       ".sk-estimator-doc-link.fitted span {\n",
       "  /* fitted */\n",
       "  background: var(--sklearn-color-fitted-level-0);\n",
       "  border: var(--sklearn-color-fitted-level-3);\n",
       "}\n",
       "\n",
       ".sk-estimator-doc-link:hover span {\n",
       "  display: block;\n",
       "}\n",
       "\n",
       "/* \"?\"-specific style due to the `<a>` HTML tag */\n",
       "\n",
       "#sk-container-id-1 a.estimator_doc_link {\n",
       "  float: right;\n",
       "  font-size: 1rem;\n",
       "  line-height: 1em;\n",
       "  font-family: monospace;\n",
       "  background-color: var(--sklearn-color-background);\n",
       "  border-radius: 1rem;\n",
       "  height: 1rem;\n",
       "  width: 1rem;\n",
       "  text-decoration: none;\n",
       "  /* unfitted */\n",
       "  color: var(--sklearn-color-unfitted-level-1);\n",
       "  border: var(--sklearn-color-unfitted-level-1) 1pt solid;\n",
       "}\n",
       "\n",
       "#sk-container-id-1 a.estimator_doc_link.fitted {\n",
       "  /* fitted */\n",
       "  border: var(--sklearn-color-fitted-level-1) 1pt solid;\n",
       "  color: var(--sklearn-color-fitted-level-1);\n",
       "}\n",
       "\n",
       "/* On hover */\n",
       "#sk-container-id-1 a.estimator_doc_link:hover {\n",
       "  /* unfitted */\n",
       "  background-color: var(--sklearn-color-unfitted-level-3);\n",
       "  color: var(--sklearn-color-background);\n",
       "  text-decoration: none;\n",
       "}\n",
       "\n",
       "#sk-container-id-1 a.estimator_doc_link.fitted:hover {\n",
       "  /* fitted */\n",
       "  background-color: var(--sklearn-color-fitted-level-3);\n",
       "}\n",
       "</style><div id=\"sk-container-id-1\" class=\"sk-top-container\"><div class=\"sk-text-repr-fallback\"><pre>KNeighborsClassifier(n_neighbors=3)</pre><b>In a Jupyter environment, please rerun this cell to show the HTML representation or trust the notebook. <br />On GitHub, the HTML representation is unable to render, please try loading this page with nbviewer.org.</b></div><div class=\"sk-container\" hidden><div class=\"sk-item\"><div class=\"sk-estimator fitted sk-toggleable\"><input class=\"sk-toggleable__control sk-hidden--visually\" id=\"sk-estimator-id-1\" type=\"checkbox\" checked><label for=\"sk-estimator-id-1\" class=\"sk-toggleable__label fitted sk-toggleable__label-arrow fitted\">&nbsp;&nbsp;KNeighborsClassifier<a class=\"sk-estimator-doc-link fitted\" rel=\"noreferrer\" target=\"_blank\" href=\"https://scikit-learn.org/1.5/modules/generated/sklearn.neighbors.KNeighborsClassifier.html\">?<span>Documentation for KNeighborsClassifier</span></a><span class=\"sk-estimator-doc-link fitted\">i<span>Fitted</span></span></label><div class=\"sk-toggleable__content fitted\"><pre>KNeighborsClassifier(n_neighbors=3)</pre></div> </div></div></div></div>"
      ],
      "text/plain": [
       "KNeighborsClassifier(n_neighbors=3)"
      ]
     },
     "execution_count": 99,
     "metadata": {},
     "output_type": "execute_result"
    }
   ],
   "source": [
    "knn = KNeighborsClassifier(n_neighbors=3)\n",
    "knn.fit(train_data, train_labels)"
   ]
  },
  {
   "cell_type": "markdown",
   "id": "02a73f3c-72db-4166-b430-f1585b2bebb0",
   "metadata": {},
   "source": [
    "- Initializes a k-Nearest Neighbors classifier with <b>n_neighbors=3</b>.\n",
    "- Trains the classifier on the extracted LBP features and labels from the training set."
   ]
  },
  {
   "cell_type": "markdown",
   "id": "72f5563f-677c-4895-a2e7-b182ef89d7d0",
   "metadata": {},
   "source": [
    "## Evaluate the Model and Print Test Accuracy"
   ]
  },
  {
   "cell_type": "code",
   "execution_count": 100,
   "id": "40db3b30-7586-4f9e-a053-3c1bfeb33b34",
   "metadata": {},
   "outputs": [
    {
     "name": "stdout",
     "output_type": "stream",
     "text": [
      "Test accuracy: 0.31\n"
     ]
    }
   ],
   "source": [
    "predictions = knn.predict(test_data)\n",
    "accuracy = accuracy_score(test_labels, predictions)\n",
    "print(f\"Test accuracy: {accuracy:.2f}\")"
   ]
  },
  {
   "cell_type": "markdown",
   "id": "254c3407-c114-4cae-ba39-eacf62a4c712",
   "metadata": {},
   "source": [
    "- Uses the trained model to predict the labels of the test data.\n",
    "- Calculates accuracy using <b>accuracy_score</b> and prints the test accuracy."
   ]
  },
  {
   "cell_type": "markdown",
   "id": "bc14beb2-6e99-4495-b3ea-16f5ef7924ff",
   "metadata": {},
   "source": [
    "## Generate and Plot the Confusion Matrix "
   ]
  },
  {
   "cell_type": "code",
   "execution_count": 101,
   "id": "72f226a8-699d-4ad1-959e-86171c91da10",
   "metadata": {},
   "outputs": [
    {
     "data": {
      "image/png": "[encoded data removed]",
      "text/plain": [
       "<Figure size 800x600 with 2 Axes>"
      ]
     },
     "metadata": {},
     "output_type": "display_data"
    }
   ],
   "source": [
    "conf_matrix = confusion_matrix(test_labels, predictions)\n",
    "\n",
    "emotion_labels = [\"Angry\", \"Disgust\", \"Fear\", \"Happy\", \"Sad\", \"Surprise\", \"Neutral\"]\n",
    "\n",
    "plt.figure(figsize=(8, 6))\n",
    "plt.imshow(conf_matrix, interpolation='nearest', cmap='Blues')\n",
    "plt.colorbar()\n",
    "plt.title('Confusion Matrix for Facial Expression Recognition')\n",
    "plt.xlabel('Predicted Labels')\n",
    "plt.ylabel('True Labels')\n",
    "\n",
    "classes = np.unique(test_labels)\n",
    "tick_marks = np.arange(len(classes))\n",
    "plt.xticks(tick_marks, classes)\n",
    "plt.yticks(tick_marks, classes)\n",
    "\n",
    "for i in range(len(classes)):\n",
    "    for j in range(len(classes)):\n",
    "        plt.text(j, i, conf_matrix[i, j], ha=\"center\", va=\"center\", color=\"black\")\n",
    "\n",
    "plt.tight_layout()\n",
    "plt.show()"
   ]
  },
  {
   "cell_type": "markdown",
   "id": "7288ba28-3e6a-4973-8326-a9946e24f6b1",
   "metadata": {},
   "source": [
    "Confusion Matrix:\n",
    "- <b>conf_matrix</b> compares actual vs. predicted labels, showing misclassifications.\n",
    "- Displays the confusion matrix as an image, with color intensity representing the number of classifications.\n",
    "- Each row represents actual labels, and each column represents predicted labels.\n",
    "\n",
    "Annotations:\n",
    "- Adds text annotations to each cell to display classification counts for each category."
   ]
  },
  {
   "cell_type": "markdown",
   "id": "e4dea527-fcc1-48d0-80d2-b7fe931a3595",
   "metadata": {},
   "source": [
    "## Print the Classification Report "
   ]
  },
  {
   "cell_type": "code",
   "execution_count": 102,
   "id": "25050800-5e75-4492-af89-bd412c725d5a",
   "metadata": {},
   "outputs": [
    {
     "name": "stdout",
     "output_type": "stream",
     "text": [
      "Classification Report:\n",
      "              precision    recall  f1-score   support\n",
      "\n",
      "       Angry       0.22      0.46      0.29       958\n",
      "     Disgust       0.25      0.45      0.32       111\n",
      "        Fear       0.25      0.34      0.29      1024\n",
      "       Happy       0.39      0.36      0.37      1774\n",
      "         Sad       0.33      0.16      0.22      1247\n",
      "    Surprise       0.50      0.35      0.41       831\n",
      "     Neutral       0.33      0.19      0.24      1233\n",
      "\n",
      "    accuracy                           0.31      7178\n",
      "   macro avg       0.32      0.33      0.31      7178\n",
      "weighted avg       0.33      0.31      0.30      7178\n",
      "\n"
     ]
    }
   ],
   "source": [
    "print(\"Classification Report:\")\n",
    "print(classification_report(test_labels, predictions, target_names=emotion_labels))"
   ]
  },
  {
   "cell_type": "markdown",
   "id": "14cea0ff-b9cd-4fa2-99ff-4eb2de75445e",
   "metadata": {},
   "source": [
    "Classification Report:\n",
    "- Provides precision, recall, F1-score, and support for each emotion class.\n",
    "- <b>target_names=emotion_labels</b> maps numeric labels to emotion names.\n",
    "- Precision: The ratio of correct positive predictions to all positive predictions.\n",
    "- Recall: The ratio of correct positive predictions to all actual positives.\n",
    "- F1-score: The harmonic mean of precision and recall."
   ]
  },
  {
   "cell_type": "markdown",
   "id": "6c7edbdf-ab61-4ac8-aa3d-9da7fec043f6",
   "metadata": {},
   "source": [
    "# Conclusion"
   ]
  },
  {
   "cell_type": "markdown",
   "id": "318b3fb9-aba1-42f2-ac95-e73218830ff1",
   "metadata": {},
   "source": [
    "In this project, we implemented a facial expression recognition model using Local Binary Patterns (LBP) for feature extraction and k-Nearest Neighbors (KNN) for classification, achieving promising accuracy with notable strengths in recognizing certain expressions like \"Happy\" and \"Surprise.\" The block-wise LBP approach allowed us to capture localized textures, which improved the model’s performance, though challenges arose with similar expressions (e.g., \"Disgust\" vs. \"Fear\") and class imbalances. Overall, while LBP and KNN provided an effective baseline, future improvements could involve exploring advanced classifiers or additional data preprocessing to enhance recognition across all emotions."
   ]
  },
  {
   "cell_type": "code",
   "execution_count": null,
   "id": "f6f5c250-44a6-4ba3-9704-fe91507587c4",
   "metadata": {},
   "outputs": [],
   "source": []
  }
 ],
 "metadata": {
  "kernelspec": {
   "display_name": "Python 3 (ipykernel)",
   "language": "python",
   "name": "python3"
  },
  "language_info": {
   "codemirror_mode": {
    "name": "ipython",
    "version": 3
   },
   "file_extension": ".py",
   "mimetype": "text/x-python",
   "name": "python",
   "nbconvert_exporter": "python",
   "pygments_lexer": "ipython3",
   "version": "3.12.5"
  }
 },
 "nbformat": 4,
 "nbformat_minor": 5
}
